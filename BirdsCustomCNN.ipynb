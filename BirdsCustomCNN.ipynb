{
 "cells": [
  {
   "cell_type": "code",
   "execution_count": 2,
   "metadata": {},
   "outputs": [],
   "source": [
    "import numpy as np\n",
    "from keras.models import Sequential, load_model\n",
    "from keras.layers import Dropout, Flatten, Conv2D, MaxPooling2D, Dense, Activation\n",
    "from keras.utils import np_utils\n",
    "from keras.preprocessing.image import ImageDataGenerator\n",
    "from keras.callbacks import TensorBoard\n",
    "import itertools"
   ]
  },
  {
   "cell_type": "code",
   "execution_count": 3,
   "metadata": {},
   "outputs": [],
   "source": [
    "# all images will be converted to this size\n",
    "ROWS = 256\n",
    "COLS = 256\n",
    "CHANNELS = 3"
   ]
  },
  {
   "cell_type": "code",
   "execution_count": 4,
   "metadata": {},
   "outputs": [
    {
     "name": "stdout",
     "output_type": "stream",
     "text": [
      "Found 11788 images belonging to 200 classes.\n",
      "Found 11788 images belonging to 200 classes.\n"
     ]
    }
   ],
   "source": [
    "train_image_generator = ImageDataGenerator(horizontal_flip=True, rescale=1./255, rotation_range=45)\n",
    "test_image_generator = ImageDataGenerator(horizontal_flip=False, rescale=1./255, rotation_range=0)\n",
    "\n",
    "train_generator = train_image_generator.flow_from_directory('trains', target_size=(ROWS, COLS), class_mode='categorical')\n",
    "test_generator = test_image_generator.flow_from_directory('tests', target_size=(ROWS, COLS), class_mode='categorical')"
   ]
  },
  {
   "cell_type": "code",
   "execution_count": 6,
   "metadata": {},
   "outputs": [
    {
     "name": "stdout",
     "output_type": "stream",
     "text": [
      "Model: \"sequential_1\"\n",
      "_________________________________________________________________\n",
      " Layer (type)                Output Shape              Param #   \n",
      "=================================================================\n",
      " conv2d_4 (Conv2D)           (None, 254, 254, 64)      1792      \n",
      "                                                                 \n",
      " activation_6 (Activation)   (None, 254, 254, 64)      0         \n",
      "                                                                 \n",
      " conv2d_5 (Conv2D)           (None, 252, 252, 64)      36928     \n",
      "                                                                 \n",
      " activation_7 (Activation)   (None, 252, 252, 64)      0         \n",
      "                                                                 \n",
      " max_pooling2d_2 (MaxPooling  (None, 63, 63, 64)       0         \n",
      " 2D)                                                             \n",
      "                                                                 \n",
      " conv2d_6 (Conv2D)           (None, 61, 61, 64)        36928     \n",
      "                                                                 \n",
      " activation_8 (Activation)   (None, 61, 61, 64)        0         \n",
      "                                                                 \n",
      " conv2d_7 (Conv2D)           (None, 59, 59, 64)        36928     \n",
      "                                                                 \n",
      " activation_9 (Activation)   (None, 59, 59, 64)        0         \n",
      "                                                                 \n",
      " max_pooling2d_3 (MaxPooling  (None, 14, 14, 64)       0         \n",
      " 2D)                                                             \n",
      "                                                                 \n",
      " flatten_1 (Flatten)         (None, 12544)             0         \n",
      "                                                                 \n",
      " dropout_2 (Dropout)         (None, 12544)             0         \n",
      "                                                                 \n",
      " dense_2 (Dense)             (None, 400)               5018000   \n",
      "                                                                 \n",
      " activation_10 (Activation)  (None, 400)               0         \n",
      "                                                                 \n",
      " dropout_3 (Dropout)         (None, 400)               0         \n",
      "                                                                 \n",
      " dense_3 (Dense)             (None, 200)               80200     \n",
      "                                                                 \n",
      " activation_11 (Activation)  (None, 200)               0         \n",
      "                                                                 \n",
      "=================================================================\n",
      "Total params: 5,210,776\n",
      "Trainable params: 5,210,776\n",
      "Non-trainable params: 0\n",
      "_________________________________________________________________\n"
     ]
    }
   ],
   "source": [
    "train_generator.reset()\n",
    "test_generator.reset()\n",
    "\n",
    "model = Sequential()\n",
    "model.add(Conv2D(64, (3,3), input_shape=(ROWS, COLS, CHANNELS)))\n",
    "model.add(Activation('relu'))\n",
    "model.add(Conv2D(64, (3,3)))\n",
    "model.add(Activation('relu'))\n",
    "model.add(MaxPooling2D(pool_size=(4,4)))\n",
    "model.add(Conv2D(64, (3,3)))\n",
    "model.add(Activation('relu'))\n",
    "model.add(Conv2D(64, (3,3)))\n",
    "model.add(Activation('relu'))\n",
    "model.add(MaxPooling2D(pool_size=(4,4)))\n",
    "model.add(Flatten())\n",
    "model.add(Dropout(0.5))\n",
    "model.add(Dense(400))\n",
    "model.add(Activation('relu'))\n",
    "model.add(Dropout(0.5))\n",
    "model.add(Dense(200))\n",
    "model.add(Activation('softmax'))\n",
    "\n",
    "model.compile(loss='categorical_crossentropy', optimizer='adamax', metrics=['accuracy'])\n",
    "\n",
    "model.summary()"
   ]
  },
  {
   "cell_type": "code",
   "execution_count": 8,
   "metadata": {
    "scrolled": false
   },
   "outputs": [
    {
     "name": "stdout",
     "output_type": "stream",
     "text": [
      "Epoch 1/10\n",
      "WARNING:tensorflow:Your input ran out of data; interrupting training. Make sure that your dataset or generator can generate at least `steps_per_epoch * epochs` batches (in this case, 5120 batches). You may need to use the repeat() function when building your dataset.\n",
      "512/512 - 2285s - loss: 5.1225 - accuracy: 0.0159 - 2285s/epoch - 4s/step\n"
     ]
    },
    {
     "data": {
      "text/plain": [
       "<keras.callbacks.History at 0x2d1a9df32e0>"
      ]
     },
     "execution_count": 8,
     "metadata": {},
     "output_type": "execute_result"
    }
   ],
   "source": [
    "tensorboard = TensorBoard(log_dir='./logs/custom')\n",
    "\n",
    "model.fit(train_generator, steps_per_epoch=512, epochs=10, callbacks=[tensorboard], verbose=2)"
   ]
  },
  {
   "cell_type": "code",
   "execution_count": null,
   "metadata": {},
   "outputs": [],
   "source": [
    "print(model.evaluate_generator(test_generator, steps=1000))"
   ]
  },
  {
   "cell_type": "code",
   "execution_count": null,
   "metadata": {},
   "outputs": [],
   "source": []
  }
 ],
 "metadata": {
  "kernelspec": {
   "display_name": "Python 3 (ipykernel)",
   "language": "python",
   "name": "python3"
  },
  "language_info": {
   "codemirror_mode": {
    "name": "ipython",
    "version": 3
   },
   "file_extension": ".py",
   "mimetype": "text/x-python",
   "name": "python",
   "nbconvert_exporter": "python",
   "pygments_lexer": "ipython3",
   "version": "3.9.13"
  }
 },
 "nbformat": 4,
 "nbformat_minor": 2
}
