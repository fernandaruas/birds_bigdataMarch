{
 "cells": [
  {
   "cell_type": "code",
   "execution_count": 6,
   "metadata": {},
   "outputs": [],
   "source": [
    "from keras.models import load_model\n",
    "import keras.utils as image\n",
    "from os import listdir\n",
    "import numpy as np"
   ]
  },
  {
   "cell_type": "code",
   "execution_count": 7,
   "metadata": {},
   "outputs": [],
   "source": [
    "ROWS = 256\n",
    "COLS = 256"
   ]
  },
  {
   "cell_type": "code",
   "execution_count": 8,
   "metadata": {},
   "outputs": [],
   "source": [
    "CLASS_NAMES = sorted(listdir('images'))\n",
    "\n",
    "model = load_model('birds-inceptionv3.model')"
   ]
  },
  {
   "cell_type": "code",
   "execution_count": 9,
   "metadata": {},
   "outputs": [],
   "source": [
    "def predict(fname):\n",
    "    img = image.load_img(fname, target_size=(ROWS, COLS))\n",
    "    img_tensor = image.img_to_array(img) # (height, width, channels)\n",
    "    # (1, height, width, channels), add a dimension because the model expects this shape:\n",
    "    # (batch_size, height, width, channels)\n",
    "    img_tensor = np.expand_dims(img_tensor, axis=0) \n",
    "    img_tensor /= 255. # model expects values in the range [0, 1]\n",
    "    prediction = model.predict(img_tensor)[0]\n",
    "    best_score_index = np.argmax(prediction)\n",
    "    bird = CLASS_NAMES[best_score_index] # retrieve original class name\n",
    "    print(\"Prediction: %s (%.2f%%)\" % (bird, 100*prediction[best_score_index]))"
   ]
  },
  {
   "cell_type": "code",
   "execution_count": 10,
   "metadata": {},
   "outputs": [
    {
     "name": "stdout",
     "output_type": "stream",
     "text": [
      "1/1 [==============================] - 11s 11s/step\n",
      "Prediction: 067.Anna_Hummingbird (97.32%)\n"
     ]
    }
   ],
   "source": [
    "predict('annas_hummingbird_sim_1.jpg')"
   ]
  },
  {
   "cell_type": "code",
   "execution_count": null,
   "metadata": {},
   "outputs": [
    {
     "name": "stdout",
     "output_type": "stream",
     "text": [
      "Enter filename: House_wren.jpg\n",
      "1/1 [==============================] - 0s 85ms/step\n",
      "Prediction: 190.Red_cockaded_Woodpecker (25.21%)\n"
     ]
    }
   ],
   "source": [
    "# interactive user input\n",
    "while True:\n",
    "    fname = input(\"Enter filename: \")\n",
    "    if(len(fname) > 0):\n",
    "        try:\n",
    "            predict(fname)\n",
    "        except Exception as e:\n",
    "            print(\"Error loading image: %s\" % e)\n",
    "    else:\n",
    "        break"
   ]
  },
  {
   "cell_type": "code",
   "execution_count": 12,
   "metadata": {},
   "outputs": [
    {
     "name": "stdout",
     "output_type": "stream",
     "text": [
      "1/1 [==============================] - 0s 246ms/step\n",
      "Prediction: 190.Red_cockaded_Woodpecker (25.21%)\n"
     ]
    }
   ],
   "source": [
    "predict('House_wren.jpg')"
   ]
  },
  {
   "cell_type": "code",
   "execution_count": null,
   "metadata": {},
   "outputs": [],
   "source": []
  }
 ],
 "metadata": {
  "kernelspec": {
   "display_name": "Python 3 (ipykernel)",
   "language": "python",
   "name": "python3"
  },
  "language_info": {
   "codemirror_mode": {
    "name": "ipython",
    "version": 3
   },
   "file_extension": ".py",
   "mimetype": "text/x-python",
   "name": "python",
   "nbconvert_exporter": "python",
   "pygments_lexer": "ipython3",
   "version": "3.9.13"
  }
 },
 "nbformat": 4,
 "nbformat_minor": 2
}
